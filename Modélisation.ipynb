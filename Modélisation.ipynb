{
 "cells": [
  {
   "cell_type": "markdown",
   "metadata": {},
   "source": [
    "# Modélisation"
   ]
  },
  {
   "cell_type": "markdown",
   "metadata": {},
   "source": [
    "$$-\\frac{\\mu}{2} \\mathcal{H}[\\delta'] - \\eta \\dot \\delta + \\dot \\tau_b t= f \\sigma$$\n",
    "$$f = f_0 + a \\ln \\frac{\\dot \\delta}{v_0} + b \\ln \\frac{\\theta v_0}{d_c}$$\n",
    "\n",
    "On dérive par rapport au temps sachant que : $\\frac{\\partial}{\\partial t}\\mathcal{H}[\\delta'] = \\mathcal{H}[\\frac{\\partial}{\\partial t}\\delta'] = \\mathcal{H}[\\frac{\\partial^2 \\delta}{\\partial t \\partial x}] = \\mathcal{H}[\\frac{\\partial^2 \\delta}{\\partial x \\partial t}] = \\mathcal{H}[\\frac{\\partial v}{\\partial x}] = \\mathcal{H}[v']$\n",
    "\n",
    "On trouve : $$-\\frac{\\mu}{2} \\mathcal{H}[v'] - \\eta \\dot v + \\dot \\tau_b= \\sigma (a \\frac{\\dot v}{v} + b \\frac{\\dot \\theta}{\\theta})$$\n",
    "\n",
    "On substitue $\\dot \\theta$ par son expression donnée par la loi de vieillisement.\n",
    "\n",
    "Finalement :\n",
    "$$\\boxed{\\left \\{ \\begin{array}{rcl}\n",
    "\\dot v &=& \\frac {v}{\\sigma a + \\eta v} \\big( v \\frac{b \\sigma}{d_c} - \\frac{b \\sigma}{\\theta} - \\frac{\\mu}{2}\\mathcal{H}[v'] + \\dot \\tau_b \\big) \\\\\n",
    "\\dot \\theta &=& 1 - \\frac{v \\theta}{d_c}\n",
    "\\end{array}\n",
    "\\right.}$$\n",
    "\n",
    "On pose pour l'adimensionement : $$\\bar t = \\frac{t v_0}{d_c} \\\\\n",
    "\\bar x = \\frac{x}{L_b} \\\\\n",
    "L_b = \\frac{\\mu d_c}{b \\sigma} \\\\\n",
    "\\bar v = \\frac{v}{v_0} \\\\\n",
    "\\bar \\theta = \\frac{\\theta v_0}{d_c}$$\n",
    "\n",
    "On effectue le changement de variable suivant : $$\\varphi = \\ln \\bar v$$\n",
    "$$ \\nu = \\ln \\bar \\theta$$\n",
    "\n",
    "On pose également par comodité les quantités sans dimension suivantes: \n",
    "$$\\alpha = \\frac{a}{b}$$\n",
    "$$\\beta = \\frac{\\eta v_0}{b \\sigma}$$\n",
    "$$\\dot{\\bar{\\tau_b}} = \\frac{d_c}{b \\sigma v_0} \\frac{\\partial \\tau_b}{\\partial t} = \\frac{1}{b \\sigma} \\frac{\\partial \\tau_b}{\\partial \\bar t}$$\n",
    "\n",
    "On en déduit :\n",
    "$$\\boxed{\\left \\{ \\begin{array}{rcl}\n",
    "\\frac{\\partial \\varphi}{\\partial \\bar t} &=& \\frac {1}{\\alpha + \\beta e^{\\varphi}} \\big( e^{\\varphi}-e^{-\\nu} - \\frac{1}{2}\\mathcal{H}[\\frac{\\partial e^{\\varphi}}{\\partial \\bar x}] + \\dot{\\bar{\\tau_b}}) \\\\\n",
    "\\frac{\\partial \\nu}{\\partial \\bar t} &=& e^{-\\nu} - e^{\\varphi}\n",
    "\\end{array}\n",
    "\\right.}$$"
   ]
  },
  {
   "cell_type": "markdown",
   "metadata": {},
   "source": [
    "# Schéma numérique"
   ]
  },
  {
   "cell_type": "markdown",
   "metadata": {},
   "source": [
    "On effectue un maillage de l'espace et du temps, on notera en exposant $n$ pour représenter la date $t_n$ et on noter $i$ en indice pour représenter l'abscisse $x_i$.\n",
    "\n",
    "On discrétise l'espace et le temps de la manière suivante :\n",
    "$$\\left \\{ \\begin{array}{rcl}\n",
    "t_n = n \\cdot \\Delta t \\\\\n",
    "x_i = i \\cdot \\Delta x\n",
    "\\end{array}\n",
    "\\right.$$\n",
    "\n",
    "Le pas de temps $\\Delta t$ sera amené à évoluer pendant la résolution, mais le pas d'espace $\\Delta x$ est constant dans toute l'implémentation.\n",
    "\n",
    "On peut alors poser $\\varphi^n_i$ la vitesse à la date $t_n$ et à l'abscisse $x_i$, et $\\nu_n^i$ la variable à la date $t_n$ et à l'abscisse $x_i$.\n",
    "\n",
    "On a alors un schéma numérique couplé de la forme :\n",
    "\n",
    "$$\\boxed{\\left \\{ \\begin{array}{rcl}\n",
    "\\dot \\varphi_i^n &=& f (\\varphi_0^n, \\ldots, \\varphi_i^n, \\ldots, \\varphi_I^n, \\nu _i^n)  \\\\\n",
    "\\dot \\nu_i^n &=& g(\\varphi_0^n, \\ldots, \\varphi_i^n, \\ldots, \\varphi_I^n, \\nu_i^n)\n",
    "\\end{array}\n",
    "\\right.}$$\n"
   ]
  },
  {
   "cell_type": "code",
   "execution_count": 1,
   "metadata": {},
   "outputs": [],
   "source": [
    "import numpy as np"
   ]
  },
  {
   "cell_type": "code",
   "execution_count": null,
   "metadata": {},
   "outputs": [],
   "source": [
    "#Paramètres\n",
    "\n",
    "mu = 30e9\n",
    "sigma = 100e6\n",
    "rho = 2400\n",
    "\n",
    "a = 2e-4\n",
    "b = 1e-3\n",
    "v0 = 1e-9\n",
    "dc = 1e-3\n",
    "taubdot = 1e-2 #Pa.s-1\n",
    "\n",
    "eta = np.sqrt(mu*rho/2)\n",
    "Lb = mu*dc/(b*sigma)\n",
    "\n",
    "alpha = a/b\n",
    "beta = eta*v0/(b*sigma)\n",
    "taubbardot = dc*taubdot/(b*sigma*v0)\n",
    "\n",
    "delta_x = Lb/4\n",
    "#delta_x < Lb\n",
    "#L > Lb\n",
    "N = 32\n",
    "L = N * delta_x"
   ]
  }
 ],
 "metadata": {
  "kernelspec": {
   "display_name": "Python 3",
   "language": "python",
   "name": "python3"
  },
  "language_info": {
   "codemirror_mode": {
    "name": "ipython",
    "version": 3
   },
   "file_extension": ".py",
   "mimetype": "text/x-python",
   "name": "python",
   "nbconvert_exporter": "python",
   "pygments_lexer": "ipython3",
   "version": "3.7.3"
  }
 },
 "nbformat": 4,
 "nbformat_minor": 4
}

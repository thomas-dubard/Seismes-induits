{
 "cells": [
  {
   "cell_type": "markdown",
   "metadata": {},
   "source": [
    "# Modélisation"
   ]
  },
  {
   "cell_type": "markdown",
   "metadata": {},
   "source": [
    "$$-\\frac{\\mu}{2} \\mathcal{H}[\\delta'] - \\eta \\dot \\delta + \\dot \\tau_b t= f \\sigma$$\n",
    "$$f = f_0 + a \\ln \\frac{\\dot \\delta}{v_0} + b \\ln \\frac{\\theta v_0}{d_c}$$\n",
    "\n",
    "On dérive par rapport au temps sachant que : $\\frac{\\partial}{\\partial t}\\mathcal{H}[\\delta'] = \\mathcal{H}[\\frac{\\partial}{\\partial t}\\delta'] = \\mathcal{H}[\\frac{\\partial^2 \\delta}{\\partial t \\partial x}] = \\mathcal{H}[\\frac{\\partial^2 \\delta}{\\partial x \\partial t}] = \\mathcal{H}[\\frac{\\partial v}{\\partial x}] = \\mathcal{H}[v']$\n",
    "\n",
    "On trouve : $$-\\frac{\\mu}{2} \\mathcal{H}[v'] - \\eta \\dot v + \\dot \\tau_b= \\sigma (a \\frac{\\dot v}{v} + b \\frac{\\dot \\theta}{\\theta})$$\n",
    "\n",
    "On substitue $\\dot \\theta$ par son expression donnée par la loi de vieillisement.\n",
    "\n",
    "Finalement :\n",
    "$$\\boxed{\\left \\{ \\begin{array}{rcl}\n",
    "\\dot v &=& \\frac {v}{\\sigma a + \\eta v} \\big( v \\frac{b \\sigma}{d_c} - \\frac{b \\sigma}{\\theta} - \\frac{\\mu}{2}\\mathcal{H}[v'] + \\dot \\tau_b \\big) \\\\\n",
    "\\dot \\theta &=& 1 - \\frac{v \\theta}{d_c}\n",
    "\\end{array}\n",
    "\\right.}$$\n",
    "\n",
    "On pose pour l'adimensionement : $$\\bar t = \\frac{t v_0}{d_c} \\\\\n",
    "\\bar x = \\frac{x}{L_b} \\\\\n",
    "L_b = \\frac{\\mu d_c}{b \\sigma} \\\\\n",
    "\\bar v = \\frac{v}{v_0} \\\\\n",
    "\\bar \\theta = \\frac{\\theta v_0}{d_c}$$\n",
    "\n",
    "On effectue le changement de variable suivant : $$\\varphi = \\ln \\bar v$$\n",
    "$$ \\nu = \\ln \\bar \\theta$$\n",
    "\n",
    "On pose également par comodité les quantités sans dimension suivantes: \n",
    "$$\\alpha = \\frac{a}{b}$$\n",
    "$$\\beta = \\frac{\\eta v_0}{b \\sigma}$$\n",
    "$$\\dot{\\bar{\\tau_b}} = \\frac{d_c}{b \\sigma v_0} \\frac{\\partial \\tau_b}{\\partial t} = \\frac{1}{b \\sigma} \\frac{\\partial \\tau_b}{\\partial \\bar t}$$\n",
    "\n",
    "On en déduit :\n",
    "$$\\boxed{\\left \\{ \\begin{array}{rcl}\n",
    "\\frac{\\partial \\varphi}{\\partial \\bar t} &=& \\frac {1}{\\alpha + \\beta e^{\\varphi}} \\big( e^{\\varphi}-e^{-\\nu} - \\frac{1}{2}\\mathcal{H}[\\frac{\\partial e^{\\varphi}}{\\partial \\bar x}] + \\dot{\\bar{\\tau_b}}) \\\\\n",
    "\\frac{\\partial \\nu}{\\partial \\bar t} &=& e^{-\\nu} - e^{\\varphi}\n",
    "\\end{array}\n",
    "\\right.}$$"
   ]
  },
  {
   "cell_type": "markdown",
   "metadata": {},
   "source": [
    "# Schéma numérique"
   ]
  },
  {
   "cell_type": "markdown",
   "metadata": {},
   "source": [
    "On effectue un maillage de l'espace et du temps, on notera en exposant $n$ pour représenter la date $t_n$ et on noter $i$ en indice pour représenter l'abscisse $x_i$.\n",
    "\n",
    "On discrétise l'espace et le temps de la manière suivante :\n",
    "$$\\left \\{ \\begin{array}{rcl}\n",
    "t_n = n \\cdot \\Delta t \\\\\n",
    "x_i = i \\cdot \\Delta x\n",
    "\\end{array}\n",
    "\\right.$$\n",
    "\n",
    "Le pas de temps $\\Delta t$ sera amené à évoluer pendant la résolution, mais le pas d'espace $\\Delta x$ est constant dans toute l'implémentation.\n",
    "\n",
    "On peut alors poser $\\varphi^n_i$ la vitesse à la date $t_n$ et à l'abscisse $x_i$, et $\\nu_n^i$ la variable à la date $t_n$ et à l'abscisse $x_i$.\n",
    "\n",
    "On a alors un schéma numérique couplé de la forme :\n",
    "\n",
    "$$\\boxed{\\left \\{ \\begin{array}{rcl}\n",
    "\\dot \\varphi_i^n &=& f (\\varphi_0^n, \\ldots, \\varphi_i^n, \\ldots, \\varphi_I^n, \\nu _i^n)  \\\\\n",
    "\\dot \\nu_i^n &=& g(\\varphi_0^n, \\ldots, \\varphi_i^n, \\ldots, \\varphi_I^n, \\nu_i^n)\n",
    "\\end{array}\n",
    "\\right.}$$\n"
   ]
  },
  {
   "cell_type": "code",
   "execution_count": 25,
   "metadata": {},
   "outputs": [],
   "source": [
    "import numpy as np\n",
    "import matplotlib.pyplot as plt\n",
    "import time"
   ]
  },
  {
   "cell_type": "code",
   "execution_count": 203,
   "metadata": {},
   "outputs": [],
   "source": [
    "#Paramètres\n",
    "mu = 30e9\n",
    "sigma = 100e6\n",
    "rho = 2400\n",
    "\n",
    "a = 2e-4\n",
    "b = 1e-3\n",
    "v0 = 1e-9\n",
    "dc = 1e-3\n",
    "taubdot = 1e-2 #Pa.s-1\n",
    "\n",
    "eta = np.sqrt(mu*rho/2)\n",
    "Lb = mu*dc/(b*sigma)\n",
    "\n",
    "alpha = a/b\n",
    "beta = eta*v0/(b*sigma)\n",
    "taubbardot = dc*taubdot/(b*sigma*v0)\n",
    "\n",
    "deltaX = int(Lb/4)\n",
    "#deltaX < Lb\n",
    "#L > Lb\n",
    "N = 100\n",
    "I = 32\n",
    "L = I * deltaX"
   ]
  },
  {
   "cell_type": "code",
   "execution_count": 204,
   "metadata": {},
   "outputs": [],
   "source": [
    "#Calcul du gradient de la transformée de Hilbert (cf. doc)\n",
    "\n",
    "def hilbert_grad(f, deltaX) :\n",
    "    \"\"\"\n",
    "    Renvoie la transformée de Hilbert du gradient par rapport à l'espace de la fonction f\n",
    "    f est un tableau de taille I qui représente f à un instant en tout point\n",
    "    \"\"\"\n",
    "    I = len(f)\n",
    "    f_hat = np.fft.fft(f)\n",
    "    freq = np.fft.fftfreq(len(f_hat))\n",
    "    H_grad = np.fft.ifft(np.abs(freq)*f_hat)\n",
    "    return np.array(H_grad*2*np.pi/deltaX).real"
   ]
  },
  {
   "cell_type": "code",
   "execution_count": 205,
   "metadata": {},
   "outputs": [],
   "source": [
    "#Résolution numérique de l'équation différentielle (cf. doc)\n",
    "\n",
    "def RKF(f, yk, h=1e-2, dtmin=1e-16, dtmax=1e1, tol=1e-10):\n",
    "    t0 = time.time()\n",
    "    if h > dtmax:   #Cela empêche la fonction de marcher si c'est le cas.\n",
    "        h = dtmax/2\n",
    "    s = 1.\n",
    "    ykk = yk\n",
    "    while s*h < dtmax:\n",
    "        k1 = h * f(yk)\n",
    "        k2 = h * f(yk + k1/4)\n",
    "        k3 = h * f(yk + 3*k1/32 + 9*k2/32)\n",
    "        k4 = h * f(yk + 1932*k1/2197 - 7200*k2/2197 + 7296*k3/2197)\n",
    "        k5 = h * f(yk + 439*k1/216 - 8*k2 + 3680*k3/513 - 845*k4/4104)\n",
    "        k6 = h * f(yk - 8*k1/27 + 2*k2 - 3544*k3/2565 + 1859*k4/4104 - 11*k5/40)\n",
    "        ykk = yk + 25*k1/216 + 1408*k3/2565 + 2197*k4/4104 - k5/5\n",
    "        zkk = yk + 16*k1/135 + 6656*k3/12825 + 28561*k4/56430 - 9*k5/50 + 2*k6/55\n",
    "        erreur = np.linalg.norm(zkk - ykk)\n",
    "        if erreur < tol:\n",
    "            tf = time.time()\n",
    "            print(f\"Run time = {tf - t0}s\")\n",
    "            return ykk, h\n",
    "        s = (h / (2 * erreur))**0.25\n",
    "        if s*h < dtmin:\n",
    "            tf = time.time()\n",
    "            print(f\"Run time = {tf - t0}s\")\n",
    "            return ykk, h\n",
    "        h = s*h\n",
    "    tf = time.time()\n",
    "    print(f\"Run time = {tf - t0}s\")\n",
    "    return ykk, h"
   ]
  },
  {
   "cell_type": "markdown",
   "metadata": {},
   "source": [
    "On pose pour la résolution numérique le vecteur $y^k$ qui contient le valeurs de $\\varphi$ et de $\\nu$ à la date $k$ et en tous le points de l'espace:\n",
    "\n",
    "$$y^k = \\left( \\begin{array}{rcl}\\varphi^k \\\\ \\nu^k \\end{array} \\right) = \\left( \\begin{array}{rcl}(\\varphi_0^k, \\ldots, \\varphi_I^k) \\\\ (\\nu_0^k, \\ldots, \\nu_I^k) \\end{array} \\right)$$\n",
    "\n",
    "Le système différentiel s'écrit alors :\n",
    "\n",
    "$$\\dot y^k = \\left( \\begin{array}{rcl} \\dot \\varphi^k \\\\ \\dot \\nu^k \\end{array} \\right) = \\left( \\begin{array}{ccc}  \\frac {1}{\\alpha + \\beta e^{\\varphi^k}} \\big( e^{\\varphi^k}-e^{-\\nu^k} - \\frac{1}{2}\\mathcal{H}[\\frac{\\partial e^{\\varphi^k}}{\\partial \\bar x}] + \\dot{\\bar{\\tau_b}}) \\\\ e^{-\\nu^k} - e^{\\varphi^k} \\end{array} \\right) = F(y^k)$$"
   ]
  },
  {
   "cell_type": "code",
   "execution_count": 206,
   "metadata": {},
   "outputs": [],
   "source": [
    "def phidot(phi, nu):\n",
    "    v = np.exp(phi)\n",
    "    theta = np.exp(nu)\n",
    "    return (v - 1/theta - 1/2*hilbert_grad(v, deltaX) + taubbardot*np.ones(I+1))/(alpha+beta*v)\n",
    "    \n",
    "def nudot(phi, nu):\n",
    "    v = np.exp(phi)\n",
    "    theta = np.exp(nu)\n",
    "    return 1/theta - v\n",
    "\n",
    "def F(y):\n",
    "    phi = y[0]\n",
    "    nu = y[1]\n",
    "    return np.array([phidot(phi, nu), nudot(phi, nu)])"
   ]
  },
  {
   "cell_type": "markdown",
   "metadata": {},
   "source": [
    "Dans notre cas, la résolution se fait par récurrence avec le schéma suivant :\n",
    "$$y^{k+1} = RKF(F, y^k)$$"
   ]
  },
  {
   "cell_type": "code",
   "execution_count": 207,
   "metadata": {},
   "outputs": [],
   "source": [
    "#Conditions initiales\n",
    "\n",
    "x = np.arange(-L//2, L//2 + 1, deltaX)\n",
    "\n",
    "A = []\n",
    "for y in x :\n",
    "    if y < 1 and y > -1:\n",
    "        A.append(np.sqrt(1 - y**2))\n",
    "    else :\n",
    "        A.append(v0)\n",
    "        \n",
    "B = []\n",
    "for y in x :\n",
    "    if y < 1 and y > -1:\n",
    "        B.append(1 - np.sqrt(1 - y**2))\n",
    "    else :\n",
    "        B.append(1)\n",
    "        \n",
    "V0 = np.array(A)\n",
    "theta0 = np.array(B)\n",
    "h = 1e-2"
   ]
  },
  {
   "cell_type": "code",
   "execution_count": 208,
   "metadata": {},
   "outputs": [],
   "source": [
    "C = []\n",
    "for y in x :\n",
    "    if y <0 and y > -600:\n",
    "        C.append(1e4*v0)\n",
    "    else :\n",
    "        C.append(v0)\n",
    "        \n",
    "D = []\n",
    "for y in x :\n",
    "    if y <0 and y > -600:\n",
    "        D.append(10)\n",
    "    else :\n",
    "        D.append(1e4)"
   ]
  },
  {
   "cell_type": "code",
   "execution_count": 209,
   "metadata": {},
   "outputs": [
    {
     "name": "stdout",
     "output_type": "stream",
     "text": [
      "Run time = 0.0019927024841308594s\n",
      "Run time = 0.0s\n",
      "Run time = 0.0009982585906982422s\n",
      "Run time = 0.0009958744049072266s\n",
      "Run time = 0.002992391586303711s\n",
      "Run time = 0.0s\n",
      "Run time = 0.0s\n",
      "Run time = 0.0s\n",
      "Run time = 0.0s\n",
      "Run time = 0.0s\n",
      "Run time = 0.0s\n",
      "Run time = 0.0s\n",
      "Run time = 0.0s\n",
      "Run time = 0.0s\n",
      "Run time = 0.0s\n",
      "Run time = 0.0s\n",
      "Run time = 0.0s\n",
      "Run time = 0.0s\n",
      "Run time = 0.0s\n",
      "Run time = 0.0s\n",
      "Run time = 0.0s\n",
      "Run time = 0.0s\n",
      "Run time = 0.0s\n",
      "Run time = 0.0s\n",
      "Run time = 0.0s\n",
      "Run time = 0.0s\n",
      "Run time = 0.0s\n",
      "Run time = 0.0s\n",
      "Run time = 0.0s\n",
      "Run time = 0.0s\n",
      "Run time = 0.0s\n",
      "Run time = 0.0s\n",
      "Run time = 0.0s\n",
      "Run time = 0.0s\n",
      "Run time = 0.0s\n",
      "Run time = 0.0s\n",
      "Run time = 0.0s\n",
      "Run time = 0.0s\n",
      "Run time = 0.0s\n",
      "Run time = 0.0s\n",
      "Run time = 0.0s\n",
      "Run time = 0.0s\n",
      "Run time = 0.0s\n",
      "Run time = 0.0s\n",
      "Run time = 0.0s\n",
      "Run time = 0.0s\n",
      "Run time = 0.0s\n",
      "Run time = 0.0s\n",
      "Run time = 0.0s\n",
      "Run time = 0.0s\n",
      "Run time = 0.0s\n",
      "Run time = 0.0s\n",
      "Run time = 0.0s\n",
      "Run time = 0.0s\n",
      "Run time = 0.0s\n",
      "Run time = 0.0s\n",
      "Run time = 0.0s\n",
      "Run time = 0.0s\n",
      "Run time = 0.0s\n",
      "Run time = 0.0s\n",
      "Run time = 0.0s\n",
      "Run time = 0.0s\n",
      "Run time = 0.0s\n",
      "Run time = 0.0s\n",
      "Run time = 0.0s\n",
      "Run time = 0.0s\n",
      "Run time = 0.0s\n",
      "Run time = 0.0s\n",
      "Run time = 0.0s\n",
      "Run time = 0.0s\n",
      "Run time = 0.0s\n",
      "Run time = 0.0s\n",
      "Run time = 0.0s\n",
      "Run time = 0.0s\n",
      "Run time = 0.0s\n",
      "Run time = 0.0s\n",
      "Run time = 0.0s\n",
      "Run time = 0.0s\n",
      "Run time = 0.0s\n",
      "Run time = 0.0s\n",
      "Run time = 0.0s\n",
      "Run time = 0.0s\n",
      "Run time = 0.0s\n",
      "Run time = 0.0s\n",
      "Run time = 0.0s\n",
      "Run time = 0.0s\n",
      "Run time = 0.0s\n",
      "Run time = 0.0s\n",
      "Run time = 0.0s\n",
      "Run time = 0.0s\n",
      "Run time = 0.0s\n",
      "Run time = 0.0s\n",
      "Run time = 0.0s\n",
      "Run time = 0.0s\n",
      "Run time = 0.0s\n",
      "Run time = 0.0s\n",
      "Run time = 0.0s\n",
      "Run time = 0.0s\n",
      "Run time = 0.0s\n",
      "Run time = 0.0s\n"
     ]
    },
    {
     "name": "stderr",
     "output_type": "stream",
     "text": [
      "C:\\Users\\Aymeric Plessier\\Miniconda3\\lib\\site-packages\\ipykernel_launcher.py:3: RuntimeWarning: overflow encountered in exp\n",
      "  This is separate from the ipykernel package so we can avoid doing imports until\n",
      "C:\\Users\\Aymeric Plessier\\Miniconda3\\lib\\site-packages\\ipykernel_launcher.py:8: RuntimeWarning: overflow encountered in exp\n",
      "  \n",
      "C:\\Users\\Aymeric Plessier\\Miniconda3\\lib\\site-packages\\ipykernel_launcher.py:2: RuntimeWarning: overflow encountered in exp\n",
      "  \n",
      "C:\\Users\\Aymeric Plessier\\Miniconda3\\lib\\site-packages\\ipykernel_launcher.py:4: RuntimeWarning: divide by zero encountered in true_divide\n",
      "  after removing the cwd from sys.path.\n",
      "C:\\Users\\Aymeric Plessier\\Miniconda3\\lib\\site-packages\\ipykernel_launcher.py:4: RuntimeWarning: invalid value encountered in subtract\n",
      "  after removing the cwd from sys.path.\n",
      "C:\\Users\\Aymeric Plessier\\Miniconda3\\lib\\site-packages\\ipykernel_launcher.py:11: RuntimeWarning: invalid value encountered in multiply\n",
      "  # This is added back by InteractiveShellApp.init_path()\n",
      "C:\\Users\\Aymeric Plessier\\Miniconda3\\lib\\site-packages\\ipykernel_launcher.py:7: RuntimeWarning: overflow encountered in exp\n",
      "  import sys\n",
      "C:\\Users\\Aymeric Plessier\\Miniconda3\\lib\\site-packages\\ipykernel_launcher.py:9: RuntimeWarning: divide by zero encountered in true_divide\n",
      "  if __name__ == '__main__':\n",
      "C:\\Users\\Aymeric Plessier\\Miniconda3\\lib\\site-packages\\ipykernel_launcher.py:9: RuntimeWarning: invalid value encountered in subtract\n",
      "  if __name__ == '__main__':\n"
     ]
    }
   ],
   "source": [
    "phik = np.log(A)\n",
    "nuk = np.ones(I+1)\n",
    "\n",
    "yk = np.array([phik, nuk])\n",
    "\n",
    "Phi = [phik]\n",
    "Nu = [nuk]\n",
    "\n",
    "for n in range(N):\n",
    "    res = RKF(F, yk, h)\n",
    "    yk = res[0]\n",
    "    h = res[1]\n",
    "    Phi.append(yk[0])\n",
    "    Nu.append(yk[1])\n"
   ]
  },
  {
   "cell_type": "code",
   "execution_count": 212,
   "metadata": {},
   "outputs": [
    {
     "name": "stderr",
     "output_type": "stream",
     "text": [
      "C:\\Users\\Aymeric Plessier\\Miniconda3\\lib\\site-packages\\ipykernel_launcher.py:4: RuntimeWarning: overflow encountered in exp\n",
      "  after removing the cwd from sys.path.\n",
      "C:\\Users\\Aymeric Plessier\\Miniconda3\\lib\\site-packages\\ipykernel_launcher.py:4: RuntimeWarning: overflow encountered in exp\n",
      "  after removing the cwd from sys.path.\n",
      "C:\\Users\\Aymeric Plessier\\Miniconda3\\lib\\site-packages\\ipykernel_launcher.py:4: RuntimeWarning: overflow encountered in exp\n",
      "  after removing the cwd from sys.path.\n",
      "C:\\Users\\Aymeric Plessier\\Miniconda3\\lib\\site-packages\\ipykernel_launcher.py:4: RuntimeWarning: overflow encountered in exp\n",
      "  after removing the cwd from sys.path.\n",
      "C:\\Users\\Aymeric Plessier\\Miniconda3\\lib\\site-packages\\ipykernel_launcher.py:4: RuntimeWarning: overflow encountered in exp\n",
      "  after removing the cwd from sys.path.\n",
      "C:\\Users\\Aymeric Plessier\\Miniconda3\\lib\\site-packages\\ipykernel_launcher.py:4: RuntimeWarning: overflow encountered in exp\n",
      "  after removing the cwd from sys.path.\n",
      "C:\\Users\\Aymeric Plessier\\Miniconda3\\lib\\site-packages\\ipykernel_launcher.py:4: RuntimeWarning: overflow encountered in exp\n",
      "  after removing the cwd from sys.path.\n",
      "C:\\Users\\Aymeric Plessier\\Miniconda3\\lib\\site-packages\\ipykernel_launcher.py:4: RuntimeWarning: overflow encountered in exp\n",
      "  after removing the cwd from sys.path.\n",
      "C:\\Users\\Aymeric Plessier\\Miniconda3\\lib\\site-packages\\ipykernel_launcher.py:4: RuntimeWarning: overflow encountered in exp\n",
      "  after removing the cwd from sys.path.\n"
     ]
    },
    {
     "data": {
      "image/png": "[encoded data removed]",
      "text/plain": [
       "<Figure size 432x288 with 1 Axes>"
      ]
     },
     "metadata": {
      "needs_background": "light"
     },
     "output_type": "display_data"
    },
    {
     "data": {
      "image/png": "[encoded data removed]",
      "text/plain": [
       "<Figure size 432x288 with 1 Axes>"
      ]
     },
     "metadata": {
      "needs_background": "light"
     },
     "output_type": "display_data"
    }
   ],
   "source": [
    "#Affichage\n",
    "\n",
    "for n in range(1, N, 10):\n",
    "    plt.plot(x, np.exp(Phi[n]))\n",
    "plt.show()\n",
    "\n",
    "for n in range(1, N, 10):\n",
    "    plt.plot(x, np.exp(Nu[n]))\n",
    "plt.show()"
   ]
  },
  {
   "cell_type": "code",
   "execution_count": null,
   "metadata": {},
   "outputs": [],
   "source": []
  }
 ],
 "metadata": {
  "kernelspec": {
   "display_name": "Python 3",
   "language": "python",
   "name": "python3"
  },
  "language_info": {
   "codemirror_mode": {
    "name": "ipython",
    "version": 3
   },
   "file_extension": ".py",
   "mimetype": "text/x-python",
   "name": "python",
   "nbconvert_exporter": "python",
   "pygments_lexer": "ipython3",
   "version": "3.7.3"
  }
 },
 "nbformat": 4,
 "nbformat_minor": 4
}

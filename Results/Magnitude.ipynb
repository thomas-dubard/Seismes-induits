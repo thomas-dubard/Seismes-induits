{
 "cells": [
  {
   "cell_type": "markdown",
   "metadata": {},
   "source": [
    "# Magnitude"
   ]
  },
  {
   "cell_type": "markdown",
   "metadata": {},
   "source": [
    "On calcule le taux de moment $U(t)$ :\n",
    "$$ U(\\bar{t}) = \\mu \\int_L v(\\bar{x}, \\bar{t}) dx$$\n",
    "$$ U(\\bar{t}) = \\mu v_0 L_b \\int_L e^{\\varphi (\\bar{x}, \\bar{t})} d\\bar{x}$$\n",
    "\n",
    "On en déduit le moment sismique $M_0$ : \n",
    "$$ M_0 = \\int^{\\bar{t_f}}_{\\bar{t_e}} U(\\bar{t}) dt $$\n",
    "$$ M_0 = \\frac{d_c}{v_0} \\int^{\\bar{t_f}}_{\\bar{t_e}} U(\\bar{t}) d\\bar{t} $$\n",
    "\n",
    "Finalement la magnitude :\n",
    "$$ M_w = \\frac{2}{3} \\log_{10}(M_0) - 6 $$"
   ]
  },
  {
   "cell_type": "markdown",
   "metadata": {},
   "source": [
    "## Paramétrage"
   ]
  },
  {
   "cell_type": "code",
   "execution_count": 1,
   "metadata": {},
   "outputs": [],
   "source": [
    "import numpy as np\n",
    "import matplotlib.pyplot as plt\n",
    "import scipy\n",
    "from scipy import special\n",
    "from scipy import integrate\n",
    "import pandas as pd\n",
    "from IPython.display import clear_output"
   ]
  },
  {
   "cell_type": "code",
   "execution_count": 2,
   "metadata": {},
   "outputs": [],
   "source": [
    "def noyau(freq,H) :\n",
    "    pos = freq==0 #on localise la position des zéros\n",
    "    freq[pos] = 1 #On remplace les zéros par des non-zéros (1 par exemple)\n",
    "    c = np.abs(freq)\n",
    "    freq = c/np.tanh(2*H*c) #on applique l'opération (sans rencontrer de zéros donc)\n",
    "    freq[pos] = 0 #on met des zéros aux positions des zéros du tableau de départ\n",
    "    return freq\n",
    "\n",
    "def Psi(f, deltaX, H) :\n",
    "    F=np.fft.fft(f)\n",
    "    freq=np.fft.fftfreq(len(f),deltaX)*2*np.pi\n",
    "    K = noyau(freq, H)\n",
    "    F=K*F\n",
    "    psi=np.fft.ifft(F)\n",
    "    return psi.real*Lb\n",
    "\n",
    "def F(y):\n",
    "    phi = y[0]\n",
    "    nu = y[1]\n",
    "    v = np.exp(phi)\n",
    "    vm = np.mean(v)\n",
    "    theta = np.exp(nu)\n",
    "    PSI = Psi(v, deltaX, H)\n",
    "    den = v - 1/theta - 1/2*PSI - gamma*(vm-np.ones(I+1))\n",
    "    phid1 = den/(alpha1 + beta*v)\n",
    "    phid2 = den/(alpha2 + beta*v)\n",
    "    phidot = np.concatenate((phid1[0:K1], phid2[K1:K2+1], phid1[K2+1:]))\n",
    "    nudot = 1/theta - v\n",
    "    return np.array([phidot, nudot])\n",
    "\n",
    "def RKF(f, yk, h=1e-2, dtmin=1e-16, dtmax=1e2, tol=1e-10):\n",
    "    K = 0\n",
    "    if h > dtmax:   #Cela empêche la fonction de marcher si c'est le cas.\n",
    "        h = dtmax/2\n",
    "    s = 1.\n",
    "    ykk = yk\n",
    "    while s*h < dtmax and K < 30:\n",
    "        k1 = h * f(yk)\n",
    "        k2 = h * f(yk + k1/4)\n",
    "        k3 = h * f(yk + 3*k1/32 + 9*k2/32)\n",
    "        k4 = h * f(yk + 1932*k1/2197 - 7200*k2/2197 + 7296*k3/2197)\n",
    "        k5 = h * f(yk + 439*k1/216 - 8*k2 + 3680*k3/513 - 845*k4/4104)\n",
    "        k6 = h * f(yk - 8*k1/27 + 2*k2 - 3544*k3/2565 + 1859*k4/4104 - 11*k5/40)\n",
    "        ykk = yk + 25*k1/216 + 1408*k3/2565 + 2197*k4/4104 - k5/5\n",
    "        zkk = yk + 16*k1/135 + 6656*k3/12825 + 28561*k4/56430 - 9*k5/50 + 2*k6/55\n",
    "        erreur = np.linalg.norm(zkk - ykk)\n",
    "        K = K + 1\n",
    "        s = (tol / (2 * erreur))**0.25\n",
    "        if erreur < tol:\n",
    "            return ykk, s*h\n",
    "        if s*h < dtmin:\n",
    "            return ykk, h\n",
    "        h = s*h\n",
    "    if K==30 and erreur == tol:\n",
    "        raise ValueError(\"Trop d'iterations\")\n",
    "    return ykk, h\n",
    "\n",
    "def p(q, D, xbar, tbar):\n",
    "    xi = np.abs(Lb*xbar/(2*np.sqrt(D*tbar*dc/v0)))\n",
    "    return 2*q*np.sqrt(D*tbar*dc/v0)*(xi*(scipy.special.erf(xi)-1) + np.exp(-xi**2)/np.sqrt(np.pi))\n",
    "\n",
    "def magnitude(U, x):\n",
    "    U = np.array(U)*mu*v0\n",
    "\n",
    "    pos = U > vseuil*mu*deltaX #on note la postion des secteurs inférieurs au seuil\n",
    "    \n",
    "    M0 = scipy.integrate.simps(U[pos], tempsbar[pos])*dc/v0\n",
    "    Mw = 2/3*np.log10(M0)-6\n",
    "    return Mw"
   ]
  },
  {
   "cell_type": "code",
   "execution_count": 9,
   "metadata": {},
   "outputs": [],
   "source": [
    "##Paramètres\n",
    "mu = 30e9\n",
    "sigma = 100e6\n",
    "rho = 2400\n",
    "D = 1e-6\n",
    "\n",
    "a1 = 2e-3\n",
    "a2 = 2e-4\n",
    "b = 1e-3\n",
    "v0 = 1e-9\n",
    "dc = 1e-3\n",
    "\n",
    "eta = np.sqrt(mu*rho/2) #=6000000\n",
    "Lb = mu*dc/(b*sigma) #=300\n",
    "\n",
    "deltaX = int(Lb/4)\n",
    "N = 4000\n",
    "I = 2**8\n",
    "L = I * deltaX\n",
    "H = 2*L\n",
    "h = 1e-2\n",
    "\n",
    "d = L//20\n",
    "K1 = (L//2-d)//deltaX\n",
    "K2 = (L//2+d)//deltaX\n",
    "\n",
    "alpha1 = a1/b \n",
    "alpha2 = a2/b\n",
    "\n",
    "vseuil = 1e-2\n",
    "\n",
    "x = np.arange(-L//2, L//2 + 1, deltaX)\n",
    "xbar = x/Lb\n",
    "\n",
    "beta = eta*v0/(b*sigma)\n",
    "gamma = mu*dc/(b*sigma*H)"
   ]
  },
  {
   "cell_type": "markdown",
   "metadata": {},
   "source": [
    "## Génération des conditions initiales"
   ]
  },
  {
   "cell_type": "code",
   "execution_count": 4,
   "metadata": {},
   "outputs": [],
   "source": [
    "#Conditions initiales\n",
    "NCI = 20000\n",
    "CI = np.zeros(len(x))\n",
    "\n",
    "tempsbar = np.array([1e-16])\n",
    "\n",
    "yk = np.array([CI, CI])\n",
    "\n",
    "Phi = CI\n",
    "Nu = CI\n",
    "\n",
    "for n in range(NCI):\n",
    "    tbar = tempsbar[n]\n",
    "    res = RKF(F, yk, h)\n",
    "    yk = res[0]\n",
    "    h = res[1]\n",
    "    tempsbar = np.concatenate((tempsbar, [tbar+h]))\n",
    "    Phi = np.vstack((Phi,yk[0]))\n",
    "    Nu = np.vstack((Nu,yk[1]))"
   ]
  },
  {
   "cell_type": "code",
   "execution_count": 5,
   "metadata": {},
   "outputs": [
    {
     "data": {
      "image/png": "[encoded data removed]",
      "text/plain": [
       "<Figure size 1080x432 with 1 Axes>"
      ]
     },
     "metadata": {
      "needs_background": "light"
     },
     "output_type": "display_data"
    }
   ],
   "source": [
    "Mphi = np.array([np.max(f) for f in Phi])\n",
    "\n",
    "fig, ax = plt.subplots(figsize=(15,6))\n",
    "ax.plot(tempsbar*dc/v0, Mphi, color='g')\n",
    "ax.set_title('Maximum φ')\n",
    "ax.set_xlabel('Time in s')\n",
    "ax.set_ylabel('ln(v/v0)')\n",
    "plt.grid()\n",
    "plt.show()"
   ]
  },
  {
   "cell_type": "code",
   "execution_count": 6,
   "metadata": {},
   "outputs": [],
   "source": [
    "temps = tempsbar*dc/v0\n",
    "start = 0.73e8\n",
    "\n",
    "debut = np.logical_and(temps>=start, temps <=start*(1+1e-2) )\n",
    "\n",
    "df_phi = pd.DataFrame(data = Phi[debut, :][0])\n",
    "df_phi.to_csv('CI_phi.csv', index = False)\n",
    "\n",
    "df_nu = pd.DataFrame(data = Nu[debut, :][0])\n",
    "df_nu.to_csv('CI_nu.csv', index = False)"
   ]
  },
  {
   "cell_type": "markdown",
   "metadata": {},
   "source": [
    "## Vérifications"
   ]
  },
  {
   "cell_type": "code",
   "execution_count": 10,
   "metadata": {},
   "outputs": [],
   "source": [
    "CI_phi = pd.read_csv('CI_phi.csv')['0'].to_numpy()\n",
    "CI_nu = pd.read_csv('CI_nu.csv')['0'].to_numpy()\n",
    "\n",
    "tempsbar = np.array([1e-16])\n",
    "\n",
    "yk = np.array([CI_phi, CI_nu])\n",
    "\n",
    "Mphi = np.array([np.max(CI_phi)])\n",
    "\n",
    "for n in range(N):\n",
    "    tbar = tempsbar[n]\n",
    "    res = RKF(F, yk, h)\n",
    "    yk = res[0]\n",
    "    h = res[1]\n",
    "    tempsbar = np.concatenate((tempsbar, [tbar+h]))\n",
    "    Mphi = np.concatenate((Mphi, [np.max(yk[0])]))"
   ]
  },
  {
   "cell_type": "code",
   "execution_count": 12,
   "metadata": {},
   "outputs": [
    {
     "data": {
      "image/png": "[encoded data removed]",
      "text/plain": [
       "<Figure size 432x288 with 1 Axes>"
      ]
     },
     "metadata": {
      "needs_background": "light"
     },
     "output_type": "display_data"
    }
   ],
   "source": [
    "plt.plot(tempsbar*dc/v0, Mphi, color='g')\n",
    "plt.title('Maximum φ')\n",
    "plt.xlabel('Time in s')\n",
    "plt.ylabel('log(v/v0)')\n",
    "plt.show()"
   ]
  },
  {
   "cell_type": "markdown",
   "metadata": {},
   "source": [
    "## Simulation en débit variable"
   ]
  },
  {
   "cell_type": "code",
   "execution_count": null,
   "metadata": {},
   "outputs": [],
   "source": [
    "CI_phi = pd.read_csv('CI_phi.csv')['0'].to_numpy()\n",
    "CI_nu = pd.read_csv('CI_nu.csv')['0'].to_numpy()\n",
    "\n",
    "U = [0]\n",
    "\n",
    "#Calcul de la référence\n",
    "q = 0\n",
    "tempsbar = np.array([1e-16])\n",
    "\n",
    "yk = np.array([CI_phi, CI_nu])\n",
    "\n",
    "for n in range(N):\n",
    "    tbar = tempsbar[n]\n",
    "    pression = p(q,D,xbar,tbar)\n",
    "    sigmaeff = sigma*np.ones(len(x)) - pression\n",
    "    beta = eta*v0/(b*sigmaeff)\n",
    "    gamma = mu*dc/(b*sigmaeff*H)\n",
    "    res = RKF(F, yk, h)\n",
    "    yk = res[0]\n",
    "    h = res[1]\n",
    "    tempsbar = np.concatenate((tempsbar, [tbar+h]))\n",
    "    u = scipy.integrate.simps(np.exp(yk[0]), xbar)*Lb\n",
    "    U.append(u)\n",
    "    \n",
    "Mref = magnitude(U, x)\n",
    "print('Magnitude without injection = ' + str(Mref))\n",
    "U = [0]"
   ]
  },
  {
   "cell_type": "code",
   "execution_count": null,
   "metadata": {},
   "outputs": [],
   "source": [
    "M = np.array([])\n",
    "\n",
    "qmax = 8e6\n",
    "Q = np.arange(0, qmax, qmax//50)\n",
    "\n",
    "#Calcul avec paramétrage\n",
    "for q in Q :\n",
    "    tempsbar = np.array([1e-16])\n",
    "    \n",
    "    yk = np.array([CI_phi, CI_nu])\n",
    "    \n",
    "    for n in range(N):\n",
    "        tbar = tempsbar[n]\n",
    "        pression = p(q,D,xbar,tbar)\n",
    "        sigmaeff = sigma*np.ones(len(x)) - pression\n",
    "        beta = eta*v0/(b*sigmaeff)\n",
    "        gamma = mu*dc/(b*sigmaeff*H)\n",
    "        res = RKF(F, yk, h)\n",
    "        yk = res[0]\n",
    "        h = res[1]\n",
    "        tempsbar = np.concatenate((tempsbar, [tbar+h]))\n",
    "        u = scipy.integrate.simps(np.exp(yk[0]), xbar)*Lb\n",
    "        U.append(u)\n",
    "        \n",
    "    M = np.concatenate((M, [magnitude(U, x)]))\n",
    "    m = 50*len(M)//len(Q)\n",
    "    clear_output(wait=True)\n",
    "    print('[' + int(m)*'◼️' + (50-m)*'◻️' + ']')\n",
    "    U = [0]"
   ]
  },
  {
   "cell_type": "code",
   "execution_count": null,
   "metadata": {},
   "outputs": [],
   "source": [
    "Mr = (M - Mref*np.ones(len(M)))/Mref\n",
    "\n",
    "plt.scatter(Q*D/L, M, s = 20., marker = 'D', c ='lightblue')\n",
    "plt.title('Absolute magnitude')\n",
    "plt.xlabel('Pressure rate in Pa/s')\n",
    "plt.ylabel('Mw')\n",
    "plt.grid()\n",
    "plt.show()\n",
    "\n",
    "plt.plot(Q*D/L, Mr, c = 'blue')\n",
    "plt.title('Variation in magnitude')\n",
    "plt.xlabel('Pressure rate in Pa/s')\n",
    "plt.ylabel('ΔMw/M0')\n",
    "plt.grid()\n",
    "plt.show()"
   ]
  },
  {
   "cell_type": "markdown",
   "metadata": {},
   "source": [
    "## Simulation à dates d'injection variable"
   ]
  },
  {
   "cell_type": "code",
   "execution_count": null,
   "metadata": {},
   "outputs": [],
   "source": [
    "CI_phi = pd.read_csv('CI_phi.csv')['0'].to_numpy()\n",
    "CI_nu = pd.read_csv('CI_nu.csv')['0'].to_numpy()\n",
    "\n",
    "U = [0]\n",
    "\n",
    "#Calcul de la référence\n",
    "q = 0\n",
    "tempsbar = np.array([1e-16])\n",
    "\n",
    "yk = np.array([CI_phi, CI_nu])\n",
    "\n",
    "for n in range(N):\n",
    "    tbar = tempsbar[n]\n",
    "    pression = p(q,D,xbar,tbar)\n",
    "    sigmaeff = sigma*np.ones(len(x)) - pression\n",
    "    beta = eta*v0/(b*sigmaeff)\n",
    "    gamma = mu*dc/(b*sigmaeff*H)\n",
    "    res = RKF(F, yk, h)\n",
    "    yk = res[0]\n",
    "    h = res[1]\n",
    "    tempsbar = np.concatenate((tempsbar, [tbar+h]))\n",
    "    u = scipy.integrate.simps(np.exp(yk[0]), xbar)*Lb\n",
    "    U.append(u)\n",
    "    \n",
    "Mref = magnitude(U, x)\n",
    "print('Magnitude à sec = ' + str(Mref))\n",
    "U = [0]"
   ]
  },
  {
   "cell_type": "code",
   "execution_count": null,
   "metadata": {},
   "outputs": [],
   "source": [
    "M = np.array([])\n",
    "\n",
    "tmax = 0.9e8\n",
    "dates = np.arange(0, 0.01*tmax, 0.01*tmax//50)\n",
    "\n",
    "qd = 7e6\n",
    "\n",
    "#Calcul avec paramétrage\n",
    "for top in dates :\n",
    "    q = 0\n",
    "    tempsbar = np.array([1e-16])\n",
    "    \n",
    "    yk = np.array([CI_phi, CI_nu])\n",
    "    \n",
    "    for n in range(N):\n",
    "        tbar = tempsbar[n]\n",
    "        if tbar >= top :\n",
    "            q = qd\n",
    "        pression = p(q,D,xbar,np.max((1e-16,tbar-top*v0/dc)))\n",
    "        sigmaeff = sigma*np.ones(len(x)) - pression\n",
    "        beta = eta*v0/(b*sigmaeff)\n",
    "        gamma = mu*dc/(b*sigmaeff*H)\n",
    "        res = RKF(F, yk, h)\n",
    "        yk = res[0]\n",
    "        h = res[1]\n",
    "        tempsbar = np.concatenate((tempsbar, [tbar+h]))\n",
    "        u = scipy.integrate.simps(np.exp(yk[0]), xbar)*Lb\n",
    "        U.append(u)\n",
    "        \n",
    "    M = np.concatenate((M, [magnitude(U, x)]))\n",
    "    m = 50*len(M)//len(dates)\n",
    "    clear_output(wait=True)\n",
    "    print('[' + int(m)*'◼️' + (50-m)*'◻️' + ']')\n",
    "    U = [0]"
   ]
  },
  {
   "cell_type": "code",
   "execution_count": null,
   "metadata": {},
   "outputs": [],
   "source": [
    "Mr = (M - Mref*np.ones(len(M)))/Mref\n",
    "pc = 100*(tmax*np.ones(len(dates))-dates)/tmax\n",
    "\n",
    "plt.scatter(dates, M, s = 20., marker = 'D', c ='pink')\n",
    "plt.title('Absolute magnitude')\n",
    "plt.xlabel('Time of injection in s')\n",
    "plt.ylabel('Mw')\n",
    "plt.grid()\n",
    "plt.show()\n",
    "\n",
    "plt.plot(dates, Mr, c = 'm')\n",
    "plt.title('Variation in magnitude')\n",
    "plt.xlabel('Time of injection in s')\n",
    "plt.ylabel('ΔMw/M0')\n",
    "plt.grid()\n",
    "plt.show()\n",
    "\n",
    "plt.scatter(pc, M, s = 20., marker = 'D', c ='lightgreen')\n",
    "plt.title('Absolute magnitude')\n",
    "plt.xlabel('Percentage of injection cycle')\n",
    "plt.ylabel('Mw')\n",
    "plt.grid()\n",
    "plt.show()\n",
    "\n",
    "plt.plot(pc, Mr, c = 'green')\n",
    "plt.title('Variation in magnitude')\n",
    "plt.xlabel('Percentage of injection cycle')\n",
    "plt.ylabel('ΔMw/M0')\n",
    "plt.grid()\n",
    "plt.show()"
   ]
  }
 ],
 "metadata": {
  "kernelspec": {
   "display_name": "Python 3",
   "language": "python",
   "name": "python3"
  },
  "language_info": {
   "codemirror_mode": {
    "name": "ipython",
    "version": 3
   },
   "file_extension": ".py",
   "mimetype": "text/x-python",
   "name": "python",
   "nbconvert_exporter": "python",
   "pygments_lexer": "ipython3",
   "version": "3.7.3"
  }
 },
 "nbformat": 4,
 "nbformat_minor": 4
}
